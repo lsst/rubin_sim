{
 "cells": [
  {
   "cell_type": "code",
   "execution_count": null,
   "metadata": {},
   "outputs": [],
   "source": [
    "# import matplotlib to show plots inline.\n",
    "%matplotlib inline\n",
    "import matplotlib.pyplot as plt\n",
    "import pandas as pd\n",
    "import numpy as np\n",
    "import glob\n",
    "import os\n",
    "\n",
    "import astropy.units as u\n",
    "import matplotlib as mpl\n",
    "import sys \n",
    "from script_utils import get_opsim_areas"
   ]
  },
  {
   "cell_type": "code",
   "execution_count": null,
   "metadata": {},
   "outputs": [],
   "source": [
    "# import maf python modules\n",
    "CWD = os.getcwd()\n",
    "sys.path = [CWD+\"/../..\"]+sys.path\n",
    "import rubin_sim.maf.db as db\n",
    "import rubin_sim.maf.metrics as metrics\n",
    "import rubin_sim.maf.slicers as slicers\n",
    "import rubin_sim.maf.stackers as stackers\n",
    "import rubin_sim.maf.plots as plots\n",
    "import rubin_sim.maf.metricBundles as metricBundles"
   ]
  },
  {
   "cell_type": "code",
   "execution_count": null,
   "metadata": {},
   "outputs": [],
   "source": [
    "from opsimUtils import *"
   ]
  },
  {
   "cell_type": "code",
   "execution_count": null,
   "metadata": {},
   "outputs": [],
   "source": [
    "NSIDE = 64\n",
    "folder_mafoutput = \"NQSO_test_{0:d}\".format(NSIDE)\n",
    "cwd = os.getcwd()\n",
    "resultDbPath = cwd+'/../../../scratch/MAFOutput/{}'.format(folder_mafoutput)\n",
    "metricDataPath = cwd+'/../../../scratch/MAFOutput/{}/MetricData/'.format(folder_mafoutput)"
   ]
  },
  {
   "cell_type": "code",
   "execution_count": null,
   "metadata": {},
   "outputs": [],
   "source": [
    "# get a dictionary of resultDb from given directory\n",
    "resultDbs = getResultsDbs(resultDbPath)"
   ]
  },
  {
   "cell_type": "code",
   "execution_count": null,
   "metadata": {},
   "outputs": [],
   "source": [
    "# retrieve metricBundles for each opsim run and store them in a dictionary\n",
    "bundleDicts_raw = dict()\n",
    "for runName in resultDbs:\n",
    "    bundleDicts_raw[runName] = bundleDictFromDisk(resultDbs[runName], runName, metricDataPath)"
   ]
  },
  {
   "cell_type": "code",
   "execution_count": null,
   "metadata": {},
   "outputs": [],
   "source": [
    "#Rearrange the bundleDicts_raw dictionary so that the keys are always the same as for the first run.\n",
    "dbRuns = list(bundleDicts_raw.keys())\n",
    "Keys = list(bundleDicts_raw[dbRuns[0]].keys())\n",
    "bundleDicts = dict()\n",
    "for runName in dbRuns:\n",
    "    bundleDicts[runName] = dict()\n",
    "    Keys_raw = bundleDicts_raw[runName]\n",
    "    for Key in Keys:\n",
    "        for Key_raw in Keys_raw:\n",
    "            if Key[1]==Key_raw[1]:\n",
    "                bundleDicts[runName][Key] = bundleDicts_raw[runName][Key_raw]"
   ]
  },
  {
   "cell_type": "code",
   "execution_count": null,
   "metadata": {},
   "outputs": [],
   "source": [
    "# check keys\n",
    "dbRuns = list(resultDbs.keys())\n",
    "bd_keys = list(bundleDicts[dbRuns[0]].keys())\n",
    "print(bd_keys)"
   ]
  },
  {
   "cell_type": "markdown",
   "metadata": {},
   "source": [
    "### Process the ExgalM5_with_cuts_AGN the same way we did for the Cadence Note to get the number of quasars. "
   ]
  },
  {
   "cell_type": "code",
   "execution_count": null,
   "metadata": {},
   "outputs": [],
   "source": [
    "from Filter_Curves.lam_eff import lam_eff"
   ]
  },
  {
   "cell_type": "code",
   "execution_count": null,
   "metadata": {},
   "outputs": [],
   "source": [
    "#sys.path.append(\"../../../AGN_Photoz_LSST_OpSim\")\n",
    "from Nqso_WFD_miniSurveys.Fast_Nqso import Fast_Nqso"
   ]
  },
  {
   "cell_type": "code",
   "execution_count": null,
   "metadata": {},
   "outputs": [],
   "source": [
    "mbright = {\"u\":14.7,\n",
    "           \"g\":15.7,\n",
    "           \"r\":15.8,\n",
    "           \"i\":15.8,\n",
    "           \"z\":15.3,\n",
    "           \"y\":13.9\n",
    "          }\n",
    "def get_Nqso(bd, run, filter, wfd_mask=None):\n",
    "    zmin = 0.3\n",
    "    zmax = np.min([6.7, (lam_eff['LSST'+filter]/(912.*u.AA)-1.0).to(1.).value])\n",
    "    for run_key in bd[run].keys():\n",
    "        if run_key[1]=='ExgalM5_with_cuts_AGN':\n",
    "            Key = run_key\n",
    "            break\n",
    "    mask = bd[run][Key].metricValues.mask\n",
    "    if wfd_mask is not None:\n",
    "        mask = mask | wfd_mask[run]\n",
    "    mlim5 = bd[run][Key].metricValues[~mask]\n",
    "    pix_area = bd[run][Key].slicer.pixArea*u.sr\n",
    "    qso_counter = Fast_Nqso(\"LSST\"+filter, \"Shen20\", \"A\", area=pix_area)\n",
    "    Nqso = np.sum(qso_counter.Nqso(zmin, zmax, mbright[filter], mlim5))\n",
    "    Area = len(mlim5) * pix_area.to(u.deg**2).value\n",
    "    return Nqso, Area"
   ]
  },
  {
   "cell_type": "code",
   "execution_count": null,
   "metadata": {},
   "outputs": [],
   "source": [
    "filters = [\"i\"]\n",
    "Nqso = dict()\n",
    "Area = dict()\n",
    "dens = dict()\n",
    "for filter in filters:\n",
    "    if filter not in Nqso:\n",
    "        Nqso[filter] = np.zeros(len(dbRuns))\n",
    "        Area[filter] = np.zeros(len(dbRuns))\n",
    "        dens[filter] = np.zeros(len(dbRuns))\n",
    "    for k, run in enumerate(dbRuns):\n",
    "        Nqso[filter][k], Area[filter][k] = get_Nqso(bundleDicts, run, filter)\n",
    "        dens[filter][k] = Nqso[filter][k]/Area[filter][k]"
   ]
  },
  {
   "cell_type": "code",
   "execution_count": null,
   "metadata": {},
   "outputs": [],
   "source": [
    "print(Nqso)\n",
    "print(Area)"
   ]
  },
  {
   "cell_type": "markdown",
   "metadata": {},
   "source": [
    "### Now compare with the outputs of QSONumberCountsMetric"
   ]
  },
  {
   "cell_type": "code",
   "execution_count": null,
   "metadata": {},
   "outputs": [],
   "source": [
    "Key = (2, 'QSONumberCountsMetric')\n",
    "for k,run in enumerate(dbRuns):\n",
    "    mask = bundleDicts[run][Key].metricValues.mask\n",
    "    Nqso2 = np.sum(bundleDicts[run][Key].metricValues[~mask])\n",
    "    print(run)\n",
    "    print(\"Nqso from QSONumberCountsMetric: {:.1f}\".format(Nqso2))\n",
    "    print(\"Nqso from ExgalM5_with_cuts_AGN: {:.1f}\".format(Nqso['i'][k]))\n",
    "    print(\"Difference: {:.1f}\".format(Nqso2-Nqso['i'][k]))\n",
    "    print()"
   ]
  },
  {
   "cell_type": "code",
   "execution_count": null,
   "metadata": {},
   "outputs": [],
   "source": []
  },
  {
   "cell_type": "code",
   "execution_count": null,
   "metadata": {},
   "outputs": [],
   "source": []
  }
 ],
 "metadata": {
  "kernelspec": {
   "display_name": "Python 3",
   "language": "python",
   "name": "python3"
  },
  "language_info": {
   "codemirror_mode": {
    "name": "ipython",
    "version": 3
   },
   "file_extension": ".py",
   "mimetype": "text/x-python",
   "name": "python",
   "nbconvert_exporter": "python",
   "pygments_lexer": "ipython3",
   "version": "3.7.8"
  }
 },
 "nbformat": 4,
 "nbformat_minor": 4
}
