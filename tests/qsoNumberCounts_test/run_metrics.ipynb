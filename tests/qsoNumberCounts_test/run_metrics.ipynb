{
 "cells": [
  {
   "cell_type": "code",
   "execution_count": null,
   "metadata": {},
   "outputs": [],
   "source": [
    "import os\n",
    "CWD = os.getcwd()\n",
    "\n",
    "import sys\n",
    "sys.path = [CWD+\"/../..\"]+sys.path\n",
    "\n",
    "import rubin_sim.maf.slicers as slicers\n",
    "import rubin_sim.maf.metricBundles as metricBundles\n",
    "from rubin_sim.maf.metrics import QSONumberCountsMetric"
   ]
  },
  {
   "cell_type": "code",
   "execution_count": null,
   "metadata": {},
   "outputs": [],
   "source": [
    "from opsimUtils import *\n",
    "from ExgalM5_with_cuts_AGN import ExgalM5_with_cuts_AGN\n",
    "from script_utils import find_completed_runs"
   ]
  },
  {
   "cell_type": "code",
   "execution_count": null,
   "metadata": {},
   "outputs": [],
   "source": [
    "#We will use the same slicer and constraint for each metric. \n",
    "NSIDE=64\n",
    "slicer = slicers.HealpixSlicer(nside=NSIDE)\n",
    "constraint = 'note not like \"DD%\"' #remove DDFs"
   ]
  },
  {
   "cell_type": "code",
   "execution_count": null,
   "metadata": {},
   "outputs": [],
   "source": [
    "#Set the metrics. Use the i-band for both. \n",
    "filter = 'i'\n",
    "metric_em5  = ExgalM5_with_cuts_AGN(lsstFilter=filter)\n",
    "metric_nqso = QSONumberCountsMetric(lsstFilter=filter)"
   ]
  },
  {
   "cell_type": "code",
   "execution_count": null,
   "metadata": {},
   "outputs": [],
   "source": [
    "#Setup the metric bundles.\n",
    "constraint_use = 'filter = \"{}\" and '.format(filter) + constraint\n",
    "EM5 = metricBundles.MetricBundle(metric_em5 , slicer, constraint_use)\n",
    "NQSO = metricBundles.MetricBundle(metric_nqso, slicer, constraint_use)"
   ]
  },
  {
   "cell_type": "code",
   "execution_count": null,
   "metadata": {},
   "outputs": [],
   "source": [
    "#Setup the bundle dictionary\n",
    "bundleDict = dict()\n",
    "bundleDict['EM5'] = EM5\n",
    "bundleDict['NQSO'] = NQSO"
   ]
  },
  {
   "cell_type": "code",
   "execution_count": null,
   "metadata": {},
   "outputs": [],
   "source": [
    "#Setup the output folders.\n",
    "folder_mafoutput = \"NQSO_test_{0:d}\".format(NSIDE)\n",
    "cwd = os.getcwd()\n",
    "outDir = cwd+'/../../scratch/MAFOutput/{}'.format(folder_mafoutput)\n",
    "if not os.path.exists(os.path.abspath(outDir)):\n",
    "    os.mkdir(os.path.abspath(outDir))\n",
    "\n",
    "resultDbPath  = cwd+'/../../scratch/MAFOutput/{}'.format(folder_mafoutput)\n",
    "metricDataPath = cwd+'/../../scratch/MAFOutput/{}/MetricData/'.format(folder_mafoutput)"
   ]
  },
  {
   "cell_type": "code",
   "execution_count": null,
   "metadata": {},
   "outputs": [],
   "source": [
    "dbDir = '/sims_maf/fbs_1.5/baseline/'\n",
    "opSimDbs, resultDbs = connect_dbs(dbDir, outDir)\n",
    "dbRuns = show_opsims(dbDir)\n",
    "for run in dbRuns:\n",
    "    EM5.setRunName(run)\n",
    "    NQSO.setRunName(run)\n",
    "    metricGroup = metricBundles.MetricBundleGroup(bundleDict,\\\n",
    "                        opSimDbs[run], metricDataPath, resultDbs[run])\n",
    "    metricGroup.runAll()"
   ]
  }
 ],
 "metadata": {
  "language_info": {
   "name": "python"
  },
  "orig_nbformat": 4
 },
 "nbformat": 4,
 "nbformat_minor": 2
}
